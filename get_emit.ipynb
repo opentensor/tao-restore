{
 "cells": [
  {
   "cell_type": "code",
   "execution_count": null,
   "metadata": {},
   "outputs": [],
   "source": [
    "import bittensor\n",
    "import pandas as pd\n",
    "import json\n",
    "import substrateinterface as pysub\n",
    "\n",
    "from typing import List, Tuple, Optional, Dict\n"
   ]
  },
  {
   "cell_type": "markdown",
   "metadata": {},
   "source": []
  },
  {
   "cell_type": "code",
   "execution_count": null,
   "metadata": {},
   "outputs": [],
   "source": [
    "sub = bittensor.subtensor(\"wss://archive.chain.opentensor.ai:443\")\n",
    "BLOCK_TIME = 12\n",
    "\n",
    "BLOCKS_PER_HOUR = 3600 / BLOCK_TIME"
   ]
  },
  {
   "cell_type": "code",
   "execution_count": null,
   "metadata": {},
   "outputs": [],
   "source": [
    "START_BLOCK = 3_791_351 # First upgrade block\n",
    "END_BLOCK = 3_804_620 # Fix block"
   ]
  },
  {
   "cell_type": "code",
   "execution_count": null,
   "metadata": {},
   "outputs": [],
   "source": [
    "# TODO: Fill in with ss58 addresses\n",
    "HOTKEY = \"YOUR HOTKEY\"\n",
    "OWNER_KEY = \"YOUR OWNER KEY\""
   ]
  },
  {
   "cell_type": "code",
   "execution_count": null,
   "metadata": {},
   "outputs": [],
   "source": [
    "starting_stake = sub.query_subtensor(\"Stake\", START_BLOCK, params=[\n",
    "   HOTKEY, OWNER_KEY\n",
    "]).value"
   ]
  },
  {
   "cell_type": "code",
   "execution_count": null,
   "metadata": {},
   "outputs": [],
   "source": [
    "curr_stake = sub.query_subtensor(\"Stake\", END_BLOCK, params=[\n",
    "    HOTKEY, OWNER_KEY\n",
    "]).value"
   ]
  },
  {
   "cell_type": "code",
   "execution_count": null,
   "metadata": {},
   "outputs": [],
   "source": [
    "stake_since = (curr_stake - starting_stake)\n",
    "stake_since/1e9"
   ]
  },
  {
   "cell_type": "code",
   "execution_count": null,
   "metadata": {},
   "outputs": [],
   "source": [
    "U16_MAX = 2**16 -1\n",
    "\n",
    "validator_take = round(sub.query_subtensor(\"Delegates\", END_BLOCK, params=[HOTKEY]).value/U16_MAX, 5)\n",
    "\n",
    "validator_take"
   ]
  },
  {
   "cell_type": "code",
   "execution_count": null,
   "metadata": {},
   "outputs": [],
   "source": [
    "starting_stake_map = sub.query_map(\"SubtensorModule\", \"Stake\", START_BLOCK, params=[HOTKEY])"
   ]
  },
  {
   "cell_type": "code",
   "execution_count": null,
   "metadata": {},
   "outputs": [],
   "source": [
    "STAKE_MAP = {}\n",
    "for coldkey, stake_val in starting_stake_map:\n",
    "    STAKE_MAP[coldkey.value] = stake_val.value"
   ]
  },
  {
   "cell_type": "code",
   "execution_count": null,
   "metadata": {},
   "outputs": [],
   "source": [
    "\n",
    "total_stake = sum(STAKE_MAP.values())\n",
    "\n",
    "stake_to_distribute = stake_since * (1-validator_take)\n",
    "NEED_TO_EMIT = {\n",
    "    coldkey: int((stake_val / total_stake) * stake_to_distribute)\n",
    "    for coldkey, stake_val in STAKE_MAP.items()\n",
    "}"
   ]
  },
  {
   "cell_type": "code",
   "execution_count": null,
   "metadata": {},
   "outputs": [],
   "source": [
    "to_emit_formatted = {\n",
    "    \"address\": [],\n",
    "    \"amount\": []\n",
    "}\n",
    "for coldkey, amount in NEED_TO_EMIT.items():\n",
    "    to_emit_formatted[\"address\"].append(coldkey)\n",
    "    in_tao = round(amount/1e9, 9) # make into TAO, keep 9 decimal places\n",
    "    to_emit_formatted[\"amount\"].append(in_tao) "
   ]
  },
  {
   "cell_type": "code",
   "execution_count": null,
   "metadata": {},
   "outputs": [],
   "source": [
    "assert (stake_to_distribute - sum(NEED_TO_EMIT.values())) <= 0.005e9"
   ]
  },
  {
   "cell_type": "code",
   "execution_count": null,
   "metadata": {},
   "outputs": [],
   "source": [
    "def to_csv(emission_map: Dict[str, int], filename: str):\n",
    "    df = pd.DataFrame.from_dict(emission_map)\n",
    "    df.to_csv(filename, index=False)"
   ]
  },
  {
   "cell_type": "code",
   "execution_count": null,
   "metadata": {},
   "outputs": [],
   "source": [
    "to_csv(to_emit_formatted, \"emit_map.csv\")"
   ]
  },
  {
   "cell_type": "code",
   "execution_count": null,
   "metadata": {},
   "outputs": [],
   "source": [
    "def to_json(emission_map: Dict[str, int], filename: str):\n",
    "    with open(filename, \"w\") as f:\n",
    "        json.dump(emission_map, f)"
   ]
  },
  {
   "cell_type": "code",
   "execution_count": null,
   "metadata": {},
   "outputs": [],
   "source": [
    "to_json(NEED_TO_EMIT, \"emit_map.json\")\n",
    "print(\"Done\")"
   ]
  }
 ],
 "metadata": {
  "kernelspec": {
   "display_name": "finney",
   "language": "python",
   "name": "python3"
  },
  "language_info": {
   "codemirror_mode": {
    "name": "ipython",
    "version": 3
   },
   "file_extension": ".py",
   "mimetype": "text/x-python",
   "name": "python",
   "nbconvert_exporter": "python",
   "pygments_lexer": "ipython3",
   "version": "3.12.5"
  }
 },
 "nbformat": 4,
 "nbformat_minor": 2
}
